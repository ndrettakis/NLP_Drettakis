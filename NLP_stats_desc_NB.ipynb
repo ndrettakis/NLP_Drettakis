{
 "cells": [
  {
   "cell_type": "code",
   "execution_count": 156,
   "metadata": {},
   "outputs": [],
   "source": [
    "#import\n",
    "\n",
    "import pandas as pd\n",
    "from sklearn.model_selection import train_test_split\n",
    "import dataframe_image as dfi\n",
    "from PIL import Image"
   ]
  },
  {
   "cell_type": "code",
   "execution_count": 157,
   "metadata": {},
   "outputs": [],
   "source": [
    "#creation of dataset and cleaning of 'NaN' values\n",
    "\n",
    "path_file = 'transcriptions_with_sex.csv'\n",
    "data = pd.read_csv(path_file)\n",
    "data = data.dropna()"
   ]
  },
  {
   "cell_type": "code",
   "execution_count": 158,
   "metadata": {},
   "outputs": [
    {
     "name": "stdout",
     "output_type": "stream",
     "text": [
      "number of individuals before cleaning : \n",
      "209\n",
      "types of sex before cleaning : \n",
      "['homme' 'femme' 'ambigu']\n",
      "number of individuals : \n",
      "209\n",
      "types of sex : \n",
      "['homme' 'femme' 'ambigu']\n",
      "number of men : \n",
      "114\n",
      "number of ambiguous : \n",
      "7\n",
      "number of women : \n",
      "88\n"
     ]
    }
   ],
   "source": [
    "#calculating number of individuals, men and women in the dataset\n",
    "\n",
    "nb_of_individuals_bf_cleaning= len(data)\n",
    "types_of_sex_bf_cleaning = data['sex'].unique()\n",
    "data = data.dropna()\n",
    "types_of_sex = data['sex'].unique()\n",
    "nb_of_individuals = len(data)\n",
    "nb_of_men = len(data[data['sex'] == 'homme'])\n",
    "nb_of_women = len(data[data['sex'] == 'femme'])\n",
    "nb_of_others = len(data[data['sex'] == 'ambigu'])\n",
    "\n",
    "print('number of individuals before cleaning : ',nb_of_individuals_bf_cleaning,'types of sex before cleaning : ', types_of_sex_bf_cleaning, sep = '\\n')\n",
    "print('number of individuals : ' ,nb_of_individuals, 'types of sex : ' ,types_of_sex, sep = '\\n')\n",
    "print('number of men : ' , nb_of_men, 'number of ambiguous : ' , nb_of_others, 'number of women : ',nb_of_women, sep = '\\n')"
   ]
  },
  {
   "cell_type": "code",
   "execution_count": 159,
   "metadata": {},
   "outputs": [],
   "source": [
    "#function to keep only the type of information \n",
    "\n",
    "def type_count(x):\n",
    "    L = []\n",
    "    for i in x: \n",
    "        if len(i) != 0:\n",
    "            if i[-1] == ':':\n",
    "                L.append(i)\n",
    "    return L"
   ]
  },
  {
   "cell_type": "code",
   "execution_count": 160,
   "metadata": {},
   "outputs": [],
   "source": [
    "#code to determine the different types of information in the 'groundtruth' lines\n",
    "\n",
    "data['gt'] = data['groundtruth'].apply(lambda x : x.split(' '))\n",
    "data['gt'] = data['gt'].apply(type_count)\n",
    "data['gt'] = data['gt'].apply(lambda x : ''.join(x))"
   ]
  },
  {
   "cell_type": "code",
   "execution_count": 161,
   "metadata": {},
   "outputs": [
    {
     "name": "stdout",
     "output_type": "stream",
     "text": [
      "['nom: prénom: date_naissance: lieux_naissance: employeur:'\n",
      " 'nom: prénom: date_naissance: relation:'\n",
      " 'nom: prénom: date_naissance: lieux_naissance: profession:'\n",
      " 'nom: prénom: date_naissance: lieux_naissance: relation:'\n",
      " 'nom: prénom: date_naissance: lieux_naissance:'\n",
      " 'nom: prénom: date_naissance: lieux_naissance: relation: profession:'\n",
      " 'nom: prénom: date_naissance: lieux_naissance: relation: employeur:'\n",
      " 'nom: prénom: date_naissance:'\n",
      " 'nom: prénom: date_naissance: lieux_naissance: état_civil: relation:'\n",
      " 'nom: prénom: date_naissance: lieux_naissance: état_civil: profession: employeur:'\n",
      " 'nom: prénom: date_naissance: lieux_naissance: état_civil: relation: profession: employeur:'\n",
      " 'prénom: date_naissance: lieux_naissance: relation:'\n",
      " 'nom: prénom: date_naissance: lieux_naissance: relation: employeur: prénom: date_naissance: lieux_naissance:'\n",
      " 'nom: prénom: date_naissance: état_civil: employeur:'\n",
      " 'nom: prénom: date_naissance: lieux_naissance: relation: profession: employeur:'\n",
      " 'nom: prénom: date_naissance: lieux_naissance: état_civil: profession:'\n",
      " 'nom: prénom: relation:'\n",
      " 'nom: prénom: date_naissance: relation: profession: employeur:'\n",
      " 'nom: prénom: date_naissance: lieux_naissance: profession: employeur:'\n",
      " 'nom: prénom: date_naissance: lieux_naissance: lieux_naissance: relation:'\n",
      " 'nom: prénom: date_naissance: lieux_naissance: état_civil:'\n",
      " 'prénom: date_naissance: lieux_naissance: relation: profession:'\n",
      " 'nom: prénom: date_naissance: état_civil: relation: relation:'\n",
      " 'nom: prénom: date_naissance: état_civil:'\n",
      " 'nom: prénom: date_naissance: état_civil: relation:'\n",
      " 'prénom: date_naissance: lieux_naissance: état_civil: relation: profession:'\n",
      " 'nom: prénom: date_naissance: date_naissance: relation:'\n",
      " 'nom: prénom: date_naissance: lieux_naissance: lieux_naissance: état_civil:'\n",
      " 'nom: prénom: date_naissance: relation: relation: profession: employeur:'\n",
      " 'nom: prénom: date_naissance: état_civil: relation: profession: employeur:'\n",
      " 'nom: prénom: date_naissance: lieux_naissance: relation: éducation: profession: employeur:'\n",
      " 'nom: prénom: date_naissance: profession:'\n",
      " 'nom: prénom: date_naissance: relation: relation:'\n",
      " 'nom: prénom: date_naissance: lieux_naissance: état_civil: relation: profession:'\n",
      " 'nom: prénom: date_naissance: lieux_naissance: état_civil: éducation: profession: employeur:'\n",
      " 'nom: prénom: date_naissance: lieux_naissance: état_civil: employeur:'\n",
      " 'nom: prénom: date_naissance: lieux_naissance: relation: relation:'\n",
      " 'nom: prénom: date_naissance: date_naissance: lieux_naissance: relation: profession:'\n",
      " 'nom: prénom: date_naissance: profession: profession:']\n",
      "39\n"
     ]
    }
   ],
   "source": [
    "#code to determine the different types of information in the 'prediction' lines\n",
    "\n",
    "data['gt'] = data['prediction'].apply(lambda x : x.split(' '))\n",
    "data['gt'] = data['gt'].apply(type_count)\n",
    "data['gt'] = data['gt'].apply(lambda x : ' '.join(x))\n",
    "print(data['gt'].unique())\n",
    "print(len(data['gt'].unique()))"
   ]
  },
  {
   "cell_type": "code",
   "execution_count": 162,
   "metadata": {},
   "outputs": [],
   "source": [
    "#functions to filter firstname out of datasets\n",
    "\n",
    "def firstname_keep(x):\n",
    "    y = 0\n",
    "    if x[0][0] == 's':\n",
    "        y = x[3]\n",
    "    if x[0][0] == 'f':\n",
    "        y = x[1]\n",
    "    return y\n",
    "\n",
    "def firstname_keep_p(x):\n",
    "    y = 0\n",
    "    if x[0][0] == 'n':\n",
    "        y = x[3]\n",
    "    if x[0][0] == 'p':\n",
    "        y = x[1]\n",
    "    return y"
   ]
  },
  {
   "cell_type": "code",
   "execution_count": 163,
   "metadata": {},
   "outputs": [],
   "source": [
    "#code to create tables of occurences of firstname in 'prediction' and 'groundtruth' categories\n",
    "\n",
    "data['firstname'] = data['groundtruth'].apply(lambda x : x.split(' '))\n",
    "data['firstname'] = data['firstname'].apply(firstname_keep)\n",
    "list_firstname_gt = data['firstname'].unique()\n",
    "\n",
    "occurences_by_firstname = []\n",
    "for i in list_firstname_gt:\n",
    "    occurences_by_firstname.append(len(data[data['firstname'] == i]))\n",
    "\n",
    "table_firstname = pd.DataFrame({'Firstnames' : list_firstname_gt, 'Occurences' : occurences_by_firstname})\n",
    "\n",
    "data['firstname_p'] = data['prediction'].apply(lambda x : x.split(' '))\n",
    "data['firstname_p'] = data['firstname_p'].apply(firstname_keep_p)\n",
    "list_firstname_p = data['firstname_p'].unique()\n",
    "\n",
    "occurences_by_firstname_p = []\n",
    "for i in list_firstname_p:\n",
    "    occurences_by_firstname_p.append(len(data[data['firstname_p'] == i]))\n",
    "\n",
    "table_firstname_p = pd.DataFrame({'Firstnames' : list_firstname_p, 'Occurences' : occurences_by_firstname_p})\n",
    "\n",
    "table_firstname_p = table_firstname_p.sort_values(by='Occurences', ascending=False)\n",
    "table_firstname = table_firstname.sort_values(by='Occurences', ascending=False)\n",
    "\n",
    "table_firstname_p = table_firstname_p[:20]\n",
    "table_firstname_p = table_firstname_p.reset_index(drop=True)\n",
    "table_firstname = table_firstname[:20]\n",
    "table_firstname = table_firstname.reset_index(drop=True)"
   ]
  },
  {
   "cell_type": "code",
   "execution_count": 164,
   "metadata": {},
   "outputs": [],
   "source": [
    "#code creating tables containing occurences of firstname male and female in the french population\n",
    "\n",
    "path_file_2 = 'firstname_with_sex.csv'\n",
    "data_2 = pd.read_csv(path_file_2,sep = ';')\n",
    "data_h = data_2.drop('female', axis=1)\n",
    "data_f = data_2.drop('male', axis=1)\n",
    "data_h = data_h.sort_values(by='male', ascending=False)\n",
    "data_f = data_f.sort_values(by='female', ascending=False)\n",
    "data_h = data_h[:20]\n",
    "data_h = data_h.reset_index(drop=True)\n",
    "data_f = data_f[:20]\n",
    "data_f = data_f.reset_index(drop=True)"
   ]
  },
  {
   "cell_type": "code",
   "execution_count": 165,
   "metadata": {},
   "outputs": [],
   "source": [
    "#code to create images and concatenating them \n",
    "\n",
    "dfi.export(data_h,'data_h.png')\n",
    "dfi.export(data_f,'data_f.png')\n",
    "dfi.export(table_firstname, 'table_firstname_1.png')\n",
    "dfi.export(table_firstname_p, 'table_firstname_p_1.png')\n",
    "image1 = Image.open('data_h.png')\n",
    "image4 = Image.open('data_f.png')\n",
    "image2 = Image.open('table_firstname_1.png')\n",
    "image3 = Image.open('table_firstname_p_1.png')\n",
    "total_width = image1.width + image4.width + image2.width + image3.width \n",
    "max_height = max(image1.height, image4.height, image2.height, image3.height)\n",
    "new_image = Image.new('RGB', (total_width, max_height))\n",
    "x_offset = 0\n",
    "new_image.paste(image1, (x_offset, 0))\n",
    "x_offset += image1.width\n",
    "new_image.paste(image4, (x_offset, 0))\n",
    "x_offset += image4.width\n",
    "new_image.paste(image2, (x_offset, 0))\n",
    "x_offset += image2.width\n",
    "new_image.paste(image3, (x_offset, 0))\n",
    "new_image.save('merged_horizontal.png')"
   ]
  }
 ],
 "metadata": {
  "kernelspec": {
   "display_name": "Python 3",
   "language": "python",
   "name": "python3"
  },
  "language_info": {
   "codemirror_mode": {
    "name": "ipython",
    "version": 3
   },
   "file_extension": ".py",
   "mimetype": "text/x-python",
   "name": "python",
   "nbconvert_exporter": "python",
   "pygments_lexer": "ipython3",
   "version": "3.9.12"
  }
 },
 "nbformat": 4,
 "nbformat_minor": 2
}
